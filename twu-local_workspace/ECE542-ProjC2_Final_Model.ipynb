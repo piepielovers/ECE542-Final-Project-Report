{
 "cells": [
  {
   "cell_type": "markdown",
   "metadata": {},
   "source": [
    "# Imports"
   ]
  },
  {
   "cell_type": "code",
   "execution_count": 1,
   "metadata": {
    "colab": {
     "base_uri": "https://localhost:8080/"
    },
    "id": "yP7vqT9w59mU",
    "outputId": "98c3b03f-6e3a-43ea-aa2b-b750c54af76e"
   },
   "outputs": [],
   "source": [
    "from os import listdir\n",
    "import numpy as np\n",
    "import pandas as pd\n",
    "\n",
    "import tensorflow as tf\n",
    "from tensorflow import keras\n",
    "\n",
    "from tensorflow.keras.optimizers import Adam\n",
    "from tensorflow.keras.models import Sequential\n",
    "from tensorflow.keras.layers import Dense, LSTM, BatchNormalization\n",
    "\n",
    "from tensorflow_addons.metrics import F1Score\n",
    "\n",
    "from sklearn.model_selection import train_test_split"
   ]
  },
  {
   "cell_type": "markdown",
   "metadata": {},
   "source": [
    "# GPU Presence"
   ]
  },
  {
   "cell_type": "code",
   "execution_count": 2,
   "metadata": {
    "scrolled": false
   },
   "outputs": [
    {
     "name": "stdout",
     "output_type": "stream",
     "text": [
      "[PhysicalDevice(name='/physical_device:GPU:0', device_type='GPU')]\n",
      "/device:GPU:0\n"
     ]
    }
   ],
   "source": [
    "print(tf.config.list_physical_devices('GPU'))\n",
    "print(tf.test.gpu_device_name())"
   ]
  },
  {
   "cell_type": "markdown",
   "metadata": {},
   "source": [
    "# Mount Drive For Google Colab"
   ]
  },
  {
   "cell_type": "code",
   "execution_count": 3,
   "metadata": {},
   "outputs": [],
   "source": [
    "# from google.colab import drive\n",
    "# drive.mount('/content/drive')"
   ]
  },
  {
   "cell_type": "code",
   "execution_count": 4,
   "metadata": {
    "colab": {
     "base_uri": "https://localhost:8080/"
    },
    "id": "x9kjd1Y-NtTJ",
    "outputId": "60a2ec37-70c4-4e96-a8b2-24c981881c9e"
   },
   "outputs": [],
   "source": [
    "# %cd drive/MyDrive/ECE542\\ Project\\ Competition/data"
   ]
  },
  {
   "cell_type": "markdown",
   "metadata": {},
   "source": [
    "# Load Training Data"
   ]
  },
  {
   "cell_type": "markdown",
   "metadata": {},
   "source": [
    "### Set Directory to Location of Training Data"
   ]
  },
  {
   "cell_type": "code",
   "execution_count": 5,
   "metadata": {},
   "outputs": [],
   "source": [
    "files = listdir('data/TrainingData')\n",
    "files = ['data/TrainingData/' + name for name in files]"
   ]
  },
  {
   "cell_type": "markdown",
   "metadata": {},
   "source": [
    "### Read and Store Data into Dictionary of DataFrames"
   ]
  },
  {
   "cell_type": "code",
   "execution_count": 6,
   "metadata": {
    "id": "havW24zTN0t5"
   },
   "outputs": [],
   "source": [
    "# Features of our data\n",
    "features = ['x accelerometer', 'y accelerometer', 'z accelerometer', 'x gyroscope', 'y gyroscope', 'z gyroscope', 'label']\n",
    "\n",
    "# Store data for each subject\n",
    "subjects_dict = {}\n",
    "\n",
    "for sub_num in range(1, 9):            # Subject A\n",
    "    subjects_dict[str(sub_num)] = {}\n",
    "    for trial_num in range(1, 10):     # Trial B\n",
    "        prefix = 'data/TrainingData/subject_00{}_0{}__'.format(sub_num, trial_num)\n",
    "\n",
    "        # Break if file does not exist\n",
    "        if (prefix + 'x_time.csv') not in files:\n",
    "            break\n",
    "\n",
    "        ## X\n",
    "        # Read subject_00A_0B__x_time.csv\n",
    "        x_time = pd.read_csv(prefix + 'x_time.csv', names=['sec'])\n",
    "        # Read subject_00A_0B__x.csv\n",
    "        x_data = pd.read_csv(prefix + 'x.csv'.format(sub_num, trial_num), names=features[:-1])\n",
    "\n",
    "        # Concatenate time with data, and set time as index\n",
    "        x_result = pd.concat([x_time, x_data], axis=1)\n",
    "        x_result = x_result.set_index('sec')\n",
    "\n",
    "        ## Y\n",
    "        # Read subject_00A_0B__y_time.csv\n",
    "        y_time = pd.read_csv(prefix + 'y_time.csv'.format(sub_num, trial_num), names=['sec'])\n",
    "        y_time.sec = y_time.sec - 0.02\n",
    "        y_time = y_time.round(decimals=3)\n",
    "\n",
    "        # Read subject_00A_0B__y.csv\n",
    "        y_data = pd.read_csv(prefix + 'y.csv'.format(sub_num, trial_num), names=[features[-1]])\n",
    "\n",
    "        # Concatenate time with label, and set time as index\n",
    "        y_result = pd.concat([y_time, y_data], axis=1)\n",
    "        y_result = y_result.set_index('sec')\n",
    "\n",
    "        ## Now for the stupid part; need to shift y_result from 10Hz to 40Hz\n",
    "        x_num_pts = x_data.shape[0]\n",
    "        x_endtime = x_result.index[-1]\n",
    "\n",
    "        time_temp = np.linspace(0, x_endtime, num=x_num_pts)\n",
    "        time_temp = np.round(time_temp, decimals=3)\n",
    "\n",
    "        # Convert above array into dataframe, and set time as index\n",
    "        df_time_temp = pd.DataFrame(time_temp, columns=['sec'])\n",
    "        df_time_temp = df_time_temp.set_index('sec')\n",
    "\n",
    "        new_y_result = pd.concat([df_time_temp, y_result], axis=1)\n",
    "        new_y_result = new_y_result.fillna(method='ffill')\n",
    "\n",
    "        ## Create final dataframe with x and y in 40Hz\n",
    "        result = pd.concat([x_result, new_y_result], axis=1)\n",
    "\n",
    "        # Confirm that x and y are aligned\n",
    "        assert x_num_pts == result.shape[0]\n",
    "        assert x_endtime == result.index[-1]\n",
    "\n",
    "        subjects_dict[str(sub_num)][str(trial_num)] = result"
   ]
  },
  {
   "cell_type": "code",
   "execution_count": 7,
   "metadata": {},
   "outputs": [
    {
     "data": {
      "text/html": [
       "<div>\n",
       "<style scoped>\n",
       "    .dataframe tbody tr th:only-of-type {\n",
       "        vertical-align: middle;\n",
       "    }\n",
       "\n",
       "    .dataframe tbody tr th {\n",
       "        vertical-align: top;\n",
       "    }\n",
       "\n",
       "    .dataframe thead th {\n",
       "        text-align: right;\n",
       "    }\n",
       "</style>\n",
       "<table border=\"1\" class=\"dataframe\">\n",
       "  <thead>\n",
       "    <tr style=\"text-align: right;\">\n",
       "      <th></th>\n",
       "      <th>x accelerometer</th>\n",
       "      <th>y accelerometer</th>\n",
       "      <th>z accelerometer</th>\n",
       "      <th>x gyroscope</th>\n",
       "      <th>y gyroscope</th>\n",
       "      <th>z gyroscope</th>\n",
       "      <th>label</th>\n",
       "    </tr>\n",
       "    <tr>\n",
       "      <th>sec</th>\n",
       "      <th></th>\n",
       "      <th></th>\n",
       "      <th></th>\n",
       "      <th></th>\n",
       "      <th></th>\n",
       "      <th></th>\n",
       "      <th></th>\n",
       "    </tr>\n",
       "  </thead>\n",
       "  <tbody>\n",
       "    <tr>\n",
       "      <th>0.000</th>\n",
       "      <td>4.435275</td>\n",
       "      <td>8.196063</td>\n",
       "      <td>2.974488</td>\n",
       "      <td>0.014215</td>\n",
       "      <td>-0.039157</td>\n",
       "      <td>-0.016744</td>\n",
       "      <td>0.0</td>\n",
       "    </tr>\n",
       "    <tr>\n",
       "      <th>0.025</th>\n",
       "      <td>4.186920</td>\n",
       "      <td>8.344455</td>\n",
       "      <td>2.908057</td>\n",
       "      <td>0.005771</td>\n",
       "      <td>-0.004480</td>\n",
       "      <td>-0.003345</td>\n",
       "      <td>0.0</td>\n",
       "    </tr>\n",
       "    <tr>\n",
       "      <th>0.050</th>\n",
       "      <td>4.544637</td>\n",
       "      <td>8.408659</td>\n",
       "      <td>2.890000</td>\n",
       "      <td>0.007967</td>\n",
       "      <td>0.022412</td>\n",
       "      <td>0.001159</td>\n",
       "      <td>0.0</td>\n",
       "    </tr>\n",
       "    <tr>\n",
       "      <th>0.075</th>\n",
       "      <td>4.849308</td>\n",
       "      <td>8.411614</td>\n",
       "      <td>2.900692</td>\n",
       "      <td>0.027778</td>\n",
       "      <td>-0.010670</td>\n",
       "      <td>-0.014223</td>\n",
       "      <td>0.0</td>\n",
       "    </tr>\n",
       "    <tr>\n",
       "      <th>0.100</th>\n",
       "      <td>4.509190</td>\n",
       "      <td>8.118649</td>\n",
       "      <td>2.847298</td>\n",
       "      <td>0.021577</td>\n",
       "      <td>-0.045498</td>\n",
       "      <td>-0.021111</td>\n",
       "      <td>0.0</td>\n",
       "    </tr>\n",
       "  </tbody>\n",
       "</table>\n",
       "</div>"
      ],
      "text/plain": [
       "       x accelerometer  y accelerometer  z accelerometer  x gyroscope  \\\n",
       "sec                                                                     \n",
       "0.000         4.435275         8.196063         2.974488     0.014215   \n",
       "0.025         4.186920         8.344455         2.908057     0.005771   \n",
       "0.050         4.544637         8.408659         2.890000     0.007967   \n",
       "0.075         4.849308         8.411614         2.900692     0.027778   \n",
       "0.100         4.509190         8.118649         2.847298     0.021577   \n",
       "\n",
       "       y gyroscope  z gyroscope  label  \n",
       "sec                                     \n",
       "0.000    -0.039157    -0.016744    0.0  \n",
       "0.025    -0.004480    -0.003345    0.0  \n",
       "0.050     0.022412     0.001159    0.0  \n",
       "0.075    -0.010670    -0.014223    0.0  \n",
       "0.100    -0.045498    -0.021111    0.0  "
      ]
     },
     "execution_count": 7,
     "metadata": {},
     "output_type": "execute_result"
    }
   ],
   "source": [
    "# Subject 1 Trial 1 data\n",
    "subjects_dict['1']['1'].head()"
   ]
  },
  {
   "cell_type": "markdown",
   "metadata": {},
   "source": [
    "# Helper Functions"
   ]
  },
  {
   "cell_type": "markdown",
   "metadata": {},
   "source": [
    "### Static Params"
   ]
  },
  {
   "cell_type": "code",
   "execution_count": 8,
   "metadata": {},
   "outputs": [],
   "source": [
    "X_RATE = 40\n",
    "Y_RATE = 10\n",
    "NUM_SENSORS = 6\n",
    "NUM_CLASS = 4"
   ]
  },
  {
   "cell_type": "markdown",
   "metadata": {},
   "source": [
    "### Functions for Data Preparation"
   ]
  },
  {
   "cell_type": "code",
   "execution_count": 9,
   "metadata": {
    "id": "0w5qzwbz5buS"
   },
   "outputs": [],
   "source": [
    "def format_data(data, data_params):\n",
    "    window = data_params['window']\n",
    "    stride = data_params['stride']\n",
    "    \n",
    "    num_epochs = int((data.index[-1] - window) / stride)\n",
    "    x_epochs = np.zeros((num_epochs, window * X_RATE, NUM_SENSORS))\n",
    "    y_epochs = np.zeros((num_epochs, NUM_CLASS))\n",
    "\n",
    "    np_data = data[features].to_numpy()\n",
    "    x_np, y_np = np_data[:, :-1], np_data[:, -1].astype(int)\n",
    "\n",
    "    window_size = int(X_RATE * window)\n",
    "\n",
    "    # window epoch calculation stuff\n",
    "    for i in range(num_epochs):\n",
    "        offset = int(X_RATE * stride * i)\n",
    "        x_epochs[i] = x_np[offset : window_size + offset]\n",
    "        y_epochs[i][y_np[window_size + offset]] = 1\n",
    "\n",
    "    return x_epochs, y_epochs.astype(int)\n",
    "\n",
    "# Shuffles Data with seed\n",
    "def shuffle_data(x, y):\n",
    "    shuffle = np.random.permutation(x.shape[0])\n",
    "    x_shuf, y_shuf = x[shuffle], y[shuffle]\n",
    "    return x_shuf, y_shuf\n",
    "\n",
    "# Combine, format, and shuffles subjects data\n",
    "def format_combine_shuffle(subjects_dict, subjects, data_params, shuffle=False):\n",
    "    x_seq, y_seq = None, None\n",
    "\n",
    "    for sub in subjects:\n",
    "        for trial, data in subjects_dict[sub].items():\n",
    "            if trial == '1':\n",
    "                x_temp, y_temp = format_data(data, data_params)\n",
    "                if x_seq is None:\n",
    "                    x_seq = x_temp\n",
    "                    y_seq = y_temp\n",
    "                else:\n",
    "                    x_seq = np.concatenate((x_seq, x_temp), axis=0)\n",
    "                    y_seq = np.concatenate((y_seq, y_temp), axis=0)\n",
    "    \n",
    "    if shuffle:\n",
    "        x_seq, y_seq = shuffle_data(x_seq, y_seq)\n",
    "    \n",
    "    return x_seq, y_seq"
   ]
  },
  {
   "cell_type": "markdown",
   "metadata": {},
   "source": [
    "# Model Building and Training"
   ]
  },
  {
   "cell_type": "markdown",
   "metadata": {},
   "source": [
    "### Initialize Model Parameters"
   ]
  },
  {
   "cell_type": "code",
   "execution_count": 10,
   "metadata": {},
   "outputs": [],
   "source": [
    "LSTM_L1 = 256\n",
    "DENSE_L2 = 256\n",
    "arch_params = {'layer1': LSTM_L1, 'layer2': DENSE_L2}\n",
    "\n",
    "INIT_LR = 0.001\n",
    "EPOCHS = 10\n",
    "BATCH_SIZE = 32\n",
    "WEIGHTS = {0:1, 1:4, 2:4, 3:6}\n",
    "fit_params = {'lr': INIT_LR, 'epochs': EPOCHS, 'batch_size': BATCH_SIZE, 'weights': WEIGHTS}"
   ]
  },
  {
   "cell_type": "markdown",
   "metadata": {},
   "source": [
    "### Construct Model"
   ]
  },
  {
   "cell_type": "code",
   "execution_count": 11,
   "metadata": {},
   "outputs": [],
   "source": [
    "def build_model(arch_params, fit_params):\n",
    "    model = Sequential([\n",
    "        LSTM(units=arch_params['layer1'], input_shape=(80, 6), return_sequences=False),\n",
    "        BatchNormalization(),\n",
    "        Dense(units=arch_params['layer2'], activation='relu'),\n",
    "        BatchNormalization(),\n",
    "        Dense(NUM_CLASS, activation='softmax')\n",
    "    ])\n",
    "    \n",
    "    opt = keras.optimizers.Adam(learning_rate=fit_params['lr'], amsgrad=True)\n",
    "    model.compile(optimizer=opt, loss='categorical_crossentropy', metrics=[F1Score(num_classes=NUM_CLASS, average='macro')])\n",
    "\n",
    "    return model"
   ]
  },
  {
   "cell_type": "code",
   "execution_count": 12,
   "metadata": {},
   "outputs": [],
   "source": [
    "model = build_model(arch_params, fit_params)"
   ]
  },
  {
   "cell_type": "code",
   "execution_count": 13,
   "metadata": {},
   "outputs": [
    {
     "name": "stdout",
     "output_type": "stream",
     "text": [
      "Model: \"sequential\"\n",
      "_________________________________________________________________\n",
      "Layer (type)                 Output Shape              Param #   \n",
      "=================================================================\n",
      "lstm (LSTM)                  (None, 256)               269312    \n",
      "_________________________________________________________________\n",
      "batch_normalization (BatchNo (None, 256)               1024      \n",
      "_________________________________________________________________\n",
      "dense (Dense)                (None, 256)               65792     \n",
      "_________________________________________________________________\n",
      "batch_normalization_1 (Batch (None, 256)               1024      \n",
      "_________________________________________________________________\n",
      "dense_1 (Dense)              (None, 4)                 1028      \n",
      "=================================================================\n",
      "Total params: 338,180\n",
      "Trainable params: 337,156\n",
      "Non-trainable params: 1,024\n",
      "_________________________________________________________________\n"
     ]
    }
   ],
   "source": [
    "model.summary()"
   ]
  },
  {
   "cell_type": "markdown",
   "metadata": {},
   "source": [
    "### Establishing Training Set"
   ]
  },
  {
   "cell_type": "code",
   "execution_count": 14,
   "metadata": {},
   "outputs": [],
   "source": [
    "# Subjects to include for training\n",
    "subjects = ['1', '2', '3', '4', '5', '6', '7', '8']\n",
    "\n",
    "# Data Format Parameters\n",
    "data_params = {'window': 2, 'stride': 0.5}\n",
    "\n",
    "x_train, y_train = format_combine_shuffle(subjects_dict, subjects, data_params, shuffle=True)"
   ]
  },
  {
   "cell_type": "markdown",
   "metadata": {},
   "source": [
    "### Train Model"
   ]
  },
  {
   "cell_type": "code",
   "execution_count": 15,
   "metadata": {},
   "outputs": [
    {
     "name": "stdout",
     "output_type": "stream",
     "text": [
      "WARNING:tensorflow:sample_weight modes were coerced from\n",
      "  ...\n",
      "    to  \n",
      "  ['...']\n"
     ]
    },
    {
     "data": {
      "text/plain": [
       "<tensorflow.python.keras.callbacks.History at 0x236d47af988>"
      ]
     },
     "execution_count": 15,
     "metadata": {},
     "output_type": "execute_result"
    }
   ],
   "source": [
    "epochs = fit_params['epochs']\n",
    "batch_size = fit_params['batch_size']\n",
    "weights = fit_params['weights']\n",
    "\n",
    "model.fit(x_train, y_train, epochs=epochs, batch_size=batch_size, class_weight=weights, verbose=0)"
   ]
  },
  {
   "cell_type": "markdown",
   "metadata": {},
   "source": [
    "# Generate Test Predictions"
   ]
  },
  {
   "cell_type": "markdown",
   "metadata": {},
   "source": [
    "### Helper Method"
   ]
  },
  {
   "cell_type": "code",
   "execution_count": 16,
   "metadata": {},
   "outputs": [],
   "source": [
    "# Format test data\n",
    "def format_test_data(data, data_params):\n",
    "    window = data_params['window']\n",
    "    stride = data_params['stride']\n",
    "    \n",
    "    num_epochs = int((data.index[-1] - window) / stride)\n",
    "    x_epochs = np.zeros((num_epochs, window * X_RATE, NUM_SENSORS))\n",
    "\n",
    "    np_data = data.to_numpy()\n",
    "    x_np = np_data\n",
    "\n",
    "    window_size = int(X_RATE * window)\n",
    "\n",
    "    # window epoch calculation stuff\n",
    "    for i in range(num_epochs):\n",
    "        offset = int(X_RATE * stride * i)\n",
    "        x_epochs[i] = x_np[offset : window_size + offset]\n",
    "\n",
    "    return x_epochs"
   ]
  },
  {
   "cell_type": "markdown",
   "metadata": {},
   "source": [
    "### Load Test Data"
   ]
  },
  {
   "cell_type": "code",
   "execution_count": 17,
   "metadata": {},
   "outputs": [],
   "source": [
    "# Testing Set Directory\n",
    "test_dir = 'data/TestData/'"
   ]
  },
  {
   "cell_type": "code",
   "execution_count": 18,
   "metadata": {},
   "outputs": [],
   "source": [
    "subjects_test = {}\n",
    "\n",
    "for sub_num in range(9, 13):\n",
    "    subjects_test[str(sub_num)] = {}\n",
    "    prefix = test_dir + 'subject_0{:02d}_01__'.format(sub_num, trial_num)\n",
    "\n",
    "    ## X\n",
    "    # Read subject_00A_0B__x_time.csv\n",
    "    x_time = pd.read_csv(prefix + 'x_time.csv', names=['sec'])\n",
    "    # Read subject_00A_0B__x.csv\n",
    "    x_data = pd.read_csv(prefix + 'x.csv', names=features[:-1])\n",
    "\n",
    "    # Concatenate time with data, and set time as index\n",
    "    x_result = pd.concat([x_time, x_data], axis=1)\n",
    "    x_result = x_result.set_index('sec')\n",
    "\n",
    "    subjects_test[str(sub_num)] = x_result"
   ]
  },
  {
   "cell_type": "code",
   "execution_count": 19,
   "metadata": {},
   "outputs": [
    {
     "data": {
      "text/html": [
       "<div>\n",
       "<style scoped>\n",
       "    .dataframe tbody tr th:only-of-type {\n",
       "        vertical-align: middle;\n",
       "    }\n",
       "\n",
       "    .dataframe tbody tr th {\n",
       "        vertical-align: top;\n",
       "    }\n",
       "\n",
       "    .dataframe thead th {\n",
       "        text-align: right;\n",
       "    }\n",
       "</style>\n",
       "<table border=\"1\" class=\"dataframe\">\n",
       "  <thead>\n",
       "    <tr style=\"text-align: right;\">\n",
       "      <th></th>\n",
       "      <th>x accelerometer</th>\n",
       "      <th>y accelerometer</th>\n",
       "      <th>z accelerometer</th>\n",
       "      <th>x gyroscope</th>\n",
       "      <th>y gyroscope</th>\n",
       "      <th>z gyroscope</th>\n",
       "    </tr>\n",
       "    <tr>\n",
       "      <th>sec</th>\n",
       "      <th></th>\n",
       "      <th></th>\n",
       "      <th></th>\n",
       "      <th></th>\n",
       "      <th></th>\n",
       "      <th></th>\n",
       "    </tr>\n",
       "  </thead>\n",
       "  <tbody>\n",
       "    <tr>\n",
       "      <th>0.000</th>\n",
       "      <td>0.396845</td>\n",
       "      <td>8.710000</td>\n",
       "      <td>-4.476044</td>\n",
       "      <td>0.001111</td>\n",
       "      <td>-0.008889</td>\n",
       "      <td>0.004137</td>\n",
       "    </tr>\n",
       "    <tr>\n",
       "      <th>0.025</th>\n",
       "      <td>0.413795</td>\n",
       "      <td>8.706898</td>\n",
       "      <td>-4.456205</td>\n",
       "      <td>0.000000</td>\n",
       "      <td>-0.002838</td>\n",
       "      <td>0.007162</td>\n",
       "    </tr>\n",
       "    <tr>\n",
       "      <th>0.050</th>\n",
       "      <td>0.423914</td>\n",
       "      <td>8.707828</td>\n",
       "      <td>-4.502172</td>\n",
       "      <td>0.002037</td>\n",
       "      <td>0.001111</td>\n",
       "      <td>0.007778</td>\n",
       "    </tr>\n",
       "    <tr>\n",
       "      <th>0.075</th>\n",
       "      <td>0.442980</td>\n",
       "      <td>8.718078</td>\n",
       "      <td>-4.502980</td>\n",
       "      <td>0.000403</td>\n",
       "      <td>0.004648</td>\n",
       "      <td>0.008384</td>\n",
       "    </tr>\n",
       "    <tr>\n",
       "      <th>0.100</th>\n",
       "      <td>0.485234</td>\n",
       "      <td>8.725234</td>\n",
       "      <td>-4.520000</td>\n",
       "      <td>-0.000020</td>\n",
       "      <td>0.006667</td>\n",
       "      <td>0.007778</td>\n",
       "    </tr>\n",
       "  </tbody>\n",
       "</table>\n",
       "</div>"
      ],
      "text/plain": [
       "       x accelerometer  y accelerometer  z accelerometer  x gyroscope  \\\n",
       "sec                                                                     \n",
       "0.000         0.396845         8.710000        -4.476044     0.001111   \n",
       "0.025         0.413795         8.706898        -4.456205     0.000000   \n",
       "0.050         0.423914         8.707828        -4.502172     0.002037   \n",
       "0.075         0.442980         8.718078        -4.502980     0.000403   \n",
       "0.100         0.485234         8.725234        -4.520000    -0.000020   \n",
       "\n",
       "       y gyroscope  z gyroscope  \n",
       "sec                              \n",
       "0.000    -0.008889     0.004137  \n",
       "0.025    -0.002838     0.007162  \n",
       "0.050     0.001111     0.007778  \n",
       "0.075     0.004648     0.008384  \n",
       "0.100     0.006667     0.007778  "
      ]
     },
     "execution_count": 19,
     "metadata": {},
     "output_type": "execute_result"
    }
   ],
   "source": [
    "# Subject 9 DataFrame\n",
    "subjects_test['9'].head()"
   ]
  },
  {
   "cell_type": "markdown",
   "metadata": {},
   "source": [
    "### Generate and Write Test Labels"
   ]
  },
  {
   "cell_type": "code",
   "execution_count": 20,
   "metadata": {},
   "outputs": [],
   "source": [
    "test_dir = 'data/TestData/LabelPredictions/'"
   ]
  },
  {
   "cell_type": "code",
   "execution_count": 21,
   "metadata": {},
   "outputs": [],
   "source": [
    "X_Time_Window = data_params['window']\n",
    "Y_Time_Step_Size = data_params['stride']\n",
    "\n",
    "def predict_write_test(model, sub_dict):\n",
    "    for sub, data in sub_dict.items():\n",
    "        prefix = 'data/TestData/subject_{:03d}_01__'.format(int(sub))\n",
    "        \n",
    "        x_final_test = format_test_data(data, data_params)\n",
    "        \n",
    "        # Predict on new dataset\n",
    "        yhat = model.predict(x_final_test)\n",
    "        yhat_write = np.argmax(yhat, axis=1)\n",
    "        yhat_len = yhat_write.shape[0]\n",
    "        \n",
    "        y_time = pd.read_csv(prefix + 'y_time.csv', names=['sec'])\n",
    "        Expected_Len = int(data.index[-1] * 10 - 0.01)\n",
    "        \n",
    "        # Format length of predicted labels\n",
    "        Expanded_Y = []\n",
    "        for i in range(int(X_Time_Window * Y_RATE)):\n",
    "            Expanded_Y.append(yhat_write[0])\n",
    "\n",
    "        for i in range(1, yhat_len):\n",
    "            for j in range(int(Y_Time_Step_Size * Y_RATE)):\n",
    "                Expanded_Y.append(yhat_write[i])\n",
    "\n",
    "        if (len(Expanded_Y) < Expected_Len):\n",
    "            while (len(Expanded_Y) != Expected_Len):\n",
    "                Expanded_Y.append(Expanded_Y[-1])\n",
    "        \n",
    "        # Write to csv\n",
    "        df_yhat = pd.DataFrame(Expanded_Y)\n",
    "        \n",
    "        write_dir = test_dir + 'subject_{:03d}_01__y.csv'.format(int(sub))\n",
    "        df_yhat.to_csv(write_dir, index=False)"
   ]
  },
  {
   "cell_type": "code",
   "execution_count": 22,
   "metadata": {},
   "outputs": [],
   "source": [
    "predict_write_test(model, subjects_test)"
   ]
  }
 ],
 "metadata": {
  "accelerator": "GPU",
  "colab": {
   "collapsed_sections": [],
   "name": "twu-test.ipynb",
   "provenance": []
  },
  "kernelspec": {
   "display_name": "Python 3 (ipykernel)",
   "language": "python",
   "name": "python3"
  },
  "language_info": {
   "codemirror_mode": {
    "name": "ipython",
    "version": 3
   },
   "file_extension": ".py",
   "mimetype": "text/x-python",
   "name": "python",
   "nbconvert_exporter": "python",
   "pygments_lexer": "ipython3",
   "version": "3.7.11"
  }
 },
 "nbformat": 4,
 "nbformat_minor": 1
}
